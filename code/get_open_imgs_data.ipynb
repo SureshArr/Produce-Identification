{
 "cells": [
  {
   "cell_type": "code",
   "execution_count": 1,
   "metadata": {
    "collapsed": false
   },
   "outputs": [],
   "source": [
    "import pandas as pd\n",
    "import csv\n",
    "import urllib\n",
    "import urllib2\n",
    "import os\n",
    "from matplotlib import pyplot as plt\n",
    "# %matplotlib inline"
   ]
  },
  {
   "cell_type": "code",
   "execution_count": 2,
   "metadata": {
    "collapsed": false
   },
   "outputs": [],
   "source": [
    "# from PIL import Image\n",
    "# fig = plt.figure(1)\n",
    "# plt.ion()\n",
    "# fn = 'banana/val_banana21.jpeg'\n",
    "# im = Image.open(fn)\n",
    "# width, height = im.size\n",
    "# print width, height\n",
    "# plt.imshow(plt.imread(fn))\n",
    "# plt.pause(2)\n",
    "# fig2 = plt.figure(2)\n",
    "# im = im.resize((640,480), Image.ANTIALIAS)\n",
    "# fn1 = 'banana/val_banana21_new.jpeg'\n",
    "# im.save(fn1, 'JPEG')\n",
    "# print Image.open(fn1).size\n",
    "# plt.imshow(plt.imread(fn1))\n",
    "# plt.pause(2)"
   ]
  },
  {
   "cell_type": "code",
   "execution_count": 3,
   "metadata": {
    "collapsed": false
   },
   "outputs": [],
   "source": [
    "im_cls_f = 'dict.csv'\n",
    "class_codes = pd.read_csv(im_cls_f, names=[\"code\", \"desc\"])"
   ]
  },
  {
   "cell_type": "code",
   "execution_count": 4,
   "metadata": {
    "collapsed": false
   },
   "outputs": [],
   "source": [
    "reader = csv.reader(open('dict.csv'))\n",
    "class_code_dict = {}\n",
    "for line in reader:\n",
    "    class_code_dict[line[1]] = line[0]"
   ]
  },
  {
   "cell_type": "code",
   "execution_count": 5,
   "metadata": {
    "collapsed": false
   },
   "outputs": [
    {
     "data": {
      "text/plain": [
       "'/m/061_f'"
      ]
     },
     "execution_count": 5,
     "metadata": {},
     "output_type": "execute_result"
    }
   ],
   "source": [
    "class_code_dict['pear']"
   ]
  },
  {
   "cell_type": "code",
   "execution_count": 6,
   "metadata": {
    "collapsed": false
   },
   "outputs": [],
   "source": [
    "human_labels = pd.read_csv('human_ann_2016_08/validation/labels.csv')"
   ]
  },
  {
   "cell_type": "code",
   "execution_count": 7,
   "metadata": {
    "collapsed": false
   },
   "outputs": [],
   "source": [
    "train = pd.read_csv('images_2016_08/train/images.csv')"
   ]
  },
  {
   "cell_type": "code",
   "execution_count": 8,
   "metadata": {
    "collapsed": false
   },
   "outputs": [],
   "source": [
    "val = pd.read_csv('images_2016_08/validation/images.csv')"
   ]
  },
  {
   "cell_type": "code",
   "execution_count": 9,
   "metadata": {
    "collapsed": false
   },
   "outputs": [],
   "source": [
    "val_labels = pd.read_csv('machine_ann_2016_08/validation/labels.csv')"
   ]
  },
  {
   "cell_type": "code",
   "execution_count": 10,
   "metadata": {
    "collapsed": false
   },
   "outputs": [],
   "source": [
    "train_labels = pd.read_csv('machine_ann_2016_08/train/labels.csv')"
   ]
  },
  {
   "cell_type": "code",
   "execution_count": 16,
   "metadata": {
    "collapsed": false
   },
   "outputs": [],
   "source": [
    "items = ['zucchini', 'grape', 'broccoli', 'bell pepper', 'carrot', 'radish',\\\n",
    "         'pear', 'valencia orange', 'cauliflower'] # 'tomato', "
   ]
  },
  {
   "cell_type": "code",
   "execution_count": 17,
   "metadata": {
    "collapsed": false,
    "scrolled": true
   },
   "outputs": [],
   "source": [
    "# get list of thumbnail URLs from human annotated validation set\n",
    "def save_imgs(label_dict, dataset, labelset, items, dir_name, subdir_name):\n",
    "    # dataset is train, val etc.\n",
    "    # items is the list of fruits etc.\n",
    "    from IPython.core.debugger import Tracer\n",
    "    import time\n",
    "    val_tn_urls = []\n",
    "    \n",
    "#     Tracer()()\n",
    "    for item in items:\n",
    "        cnt = 0\n",
    "        my_path = dir_name + '/' + item + '/' + subdir_name\n",
    "        if not os.path.exists(my_path):\n",
    "            os.makedirs(my_path)\n",
    "            label = class_code_dict[item]\n",
    "            image_ID_series = labelset.ImageID[labelset.LabelName == label]\n",
    "            for id in image_ID_series:\n",
    "                img_url_orig = dataset.OriginalURL[dataset[dataset.ImageID == id].index.item()]\n",
    "                img_url_tn = dataset.Thumbnail300KURL[dataset[dataset.ImageID == id].index.item()]\n",
    "    #             val_tn_urls.append(img_url)\n",
    "                \n",
    "                try:\n",
    "                    img = urllib2.urlopen(img_url_orig)\n",
    "                    fn = my_path + '/' + item + '_orig_' + str(cnt) + '.jpeg'\n",
    "                    with open(fn,'wb') as localFile:\n",
    "                        localFile.write(img.read())\n",
    "                    time.sleep(2)\n",
    "\n",
    "                    img = urllib2.urlopen(img_url_tn)\n",
    "                    fn = my_path + '/' + item + '_tn_' + str(cnt) + '.jpeg'\n",
    "                    with open(fn,'wb') as localFile:\n",
    "                        localFile.write(img.read())\n",
    "                    time.sleep(2)\n",
    "\n",
    "                    cnt += 1\n",
    "                except:\n",
    "                    pass\n",
    "            \n",
    "        else:\n",
    "            pass\n",
    "            "
   ]
  },
  {
   "cell_type": "code",
   "execution_count": 18,
   "metadata": {
    "collapsed": false
   },
   "outputs": [],
   "source": [
    "# save_imgs(class_code_dict, train, train_labels, items, 'images', 'train')\n",
    "# save_imgs(class_code_dict, val, val_labels, items, 'images', 'val')\n",
    "save_imgs(class_code_dict, val, human_labels, items, 'images', 'human')"
   ]
  },
  {
   "cell_type": "code",
   "execution_count": 12,
   "metadata": {
    "collapsed": false
   },
   "outputs": [
    {
     "data": {
      "text/plain": [
       "['zucchini',\n",
       " 'grape',\n",
       " 'broccoli',\n",
       " 'bell pepper',\n",
       " 'carrot',\n",
       " 'radish',\n",
       " 'pear',\n",
       " 'valencia orange',\n",
       " 'cauliflower']"
      ]
     },
     "execution_count": 12,
     "metadata": {},
     "output_type": "execute_result"
    }
   ],
   "source": [
    "items"
   ]
  },
  {
   "cell_type": "code",
   "execution_count": null,
   "metadata": {
    "collapsed": true
   },
   "outputs": [],
   "source": []
  }
 ],
 "metadata": {
  "anaconda-cloud": {},
  "kernelspec": {
   "display_name": "Python [Root]",
   "language": "python",
   "name": "Python [Root]"
  },
  "language_info": {
   "codemirror_mode": {
    "name": "ipython",
    "version": 2
   },
   "file_extension": ".py",
   "mimetype": "text/x-python",
   "name": "python",
   "nbconvert_exporter": "python",
   "pygments_lexer": "ipython2",
   "version": "2.7.12"
  }
 },
 "nbformat": 4,
 "nbformat_minor": 0
}
