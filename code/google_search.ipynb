{
 "cells": [
  {
   "cell_type": "code",
   "execution_count": 62,
   "metadata": {
    "collapsed": true
   },
   "outputs": [],
   "source": [
    "import os\n",
    "import selenium\n",
    "from selenium import webdriver\n",
    "from base64 import decodestring\n",
    "import time"
   ]
  },
  {
   "cell_type": "code",
   "execution_count": 44,
   "metadata": {
    "collapsed": false
   },
   "outputs": [],
   "source": [
    "def setup_search(wd, tb, item):\n",
    "    wd.get('http://images.google.com')\n",
    "    tb = wd.find_element_by_css_selector('input#lst-ib')\n",
    "    tb.click()\n",
    "    tb.send_keys(item)\n",
    "    tb.submit()\n",
    "    time.sleep(1);\n",
    "    lastHeight = wd.execute_script(\"return document.body.scrollHeight\")\n",
    "    while True:\n",
    "        wd.execute_script(\"window.scrollTo(0, document.body.scrollHeight);\")\n",
    "        time.sleep(2)\n",
    "        newHeight = wd.execute_script(\"return document.body.scrollHeight\")\n",
    "        if newHeight == lastHeight: # does not scroll anymore ...\n",
    "            smb = wd.find_elements_by_css_selector('input#smb')\n",
    "            if not (smb and smb[0].is_displayed()): # absolute end of page reached\n",
    "                break\n",
    "            smb_button = smb[0]\n",
    "            wd.execute_script(\"return arguments[0].scrollIntoView(true);\", smb_button)\n",
    "            smb_button.click()\n",
    "            lastHeight = wd.execute_script(\"return document.body.scrollHeight\")\n",
    "\n",
    "        else:\n",
    "            lastHeight = newHeight # if it can still scroll ...\n",
    "    return wd.find_elements_by_css_selector('img.rg_ic')"
   ]
  },
  {
   "cell_type": "code",
   "execution_count": 45,
   "metadata": {
    "collapsed": false
   },
   "outputs": [
    {
     "ename": "TypeError",
     "evalue": "'NoneType' object has no attribute '__getitem__'",
     "output_type": "error",
     "traceback": [
      "\u001b[0;31m---------------------------------------------------------------------------\u001b[0m",
      "\u001b[0;31mTypeError\u001b[0m                                 Traceback (most recent call last)",
      "\u001b[0;32m<ipython-input-45-dfdf1a308de9>\u001b[0m in \u001b[0;36m<module>\u001b[0;34m()\u001b[0m\n\u001b[1;32m     15\u001b[0m         \u001b[0msrc\u001b[0m \u001b[0;34m=\u001b[0m \u001b[0mp\u001b[0m\u001b[0;34m.\u001b[0m\u001b[0mget_attribute\u001b[0m\u001b[0;34m(\u001b[0m\u001b[0;34m'src'\u001b[0m\u001b[0;34m)\u001b[0m\u001b[0;34m\u001b[0m\u001b[0m\n\u001b[1;32m     16\u001b[0m \u001b[0;31m#         Tracer()()\u001b[0m\u001b[0;34m\u001b[0m\u001b[0;34m\u001b[0m\u001b[0m\n\u001b[0;32m---> 17\u001b[0;31m         \u001b[0;32mif\u001b[0m \u001b[0msrc\u001b[0m\u001b[0;34m[\u001b[0m\u001b[0;34m:\u001b[0m\u001b[0;36m4\u001b[0m\u001b[0;34m]\u001b[0m \u001b[0;34m==\u001b[0m \u001b[0;34m'http'\u001b[0m\u001b[0;34m:\u001b[0m\u001b[0;34m\u001b[0m\u001b[0m\n\u001b[0m\u001b[1;32m     18\u001b[0m             \u001b[0;31m# do something\u001b[0m\u001b[0;34m\u001b[0m\u001b[0;34m\u001b[0m\u001b[0m\n\u001b[1;32m     19\u001b[0m             \u001b[0;32mpass\u001b[0m\u001b[0;34m\u001b[0m\u001b[0m\n",
      "\u001b[0;31mTypeError\u001b[0m: 'NoneType' object has no attribute '__getitem__'"
     ]
    }
   ],
   "source": [
    "im_dir = 'google_search_images'\n",
    "items = ['bananas', 'gala apples', 'tomatoes', 'green apples', 'zucchinis', 'red grapes', 'carrots', 'radish',\\\n",
    "         'oranges', 'cauliflower']\n",
    "wd = webdriver.Firefox()\n",
    "wd.get('http://images.google.com')\n",
    "text_box = wd.find_element_by_css_selector('input#lst-ib')\n",
    "text_box.click()\n",
    "# from IPython.core.debugger import Tracer\n",
    "\n",
    "for item in items:\n",
    "    image_ptrs = setup_search(wd, text_box, item)\n",
    "    cnt = 0\n",
    "    p_cnts = 0\n",
    "    for p in image_ptrs:\n",
    "        p_cnts += 1\n",
    "        src = p.get_attribute('src')\n",
    "#         Tracer()()\n",
    "        if src[:4] == 'http':\n",
    "            # do something\n",
    "            pass\n",
    "        else:\n",
    "            image_info, image_data = src.split(',')\n",
    "            image_type, encoding = image_info.split('/')[1].split(';')\n",
    "            tmp_list = item.split()\n",
    "            item_str = tmp_list[0] + '_'\n",
    "            for s in tmp_list[1:]:\n",
    "                item_str = item_str + s + '_'\n",
    "            fn = im_dir + '/' + item_str + str(cnt) + str(p_cnts) + '.jpeg'\n",
    "            cnt += 1\n",
    "            with open(fn, 'wb') as f:\n",
    "                f.write(image_data.decode(encoding))\n",
    "        time.sleep(2)\n",
    "    time.sleep(5)\n",
    "    text_box = wd.find_element_by_css_selector('input#lst-ib')\n",
    "    text_box.click()\n",
    "    text_box.clear()\n",
    "    "
   ]
  },
  {
   "cell_type": "code",
   "execution_count": null,
   "metadata": {
    "collapsed": false
   },
   "outputs": [],
   "source": [
    "# wd.close()"
   ]
  },
  {
   "cell_type": "code",
   "execution_count": null,
   "metadata": {
    "collapsed": false
   },
   "outputs": [],
   "source": [
    "# https://encrypted-tbn0.gstatic.com/images?q=tbn:ANd9GcQNFmBfOnSy6sYKbz22xRU6w6kRXI1aW8WCNmJRbU43qVJy6OWGLg"
   ]
  },
  {
   "cell_type": "code",
   "execution_count": 55,
   "metadata": {
    "collapsed": false
   },
   "outputs": [],
   "source": [
    "pp = image_ptrs[19]"
   ]
  },
  {
   "cell_type": "code",
   "execution_count": 56,
   "metadata": {
    "collapsed": false
   },
   "outputs": [
    {
     "data": {
      "text/plain": [
       "selenium.webdriver.remote.webelement.WebElement"
      ]
     },
     "execution_count": 56,
     "metadata": {},
     "output_type": "execute_result"
    }
   ],
   "source": [
    "type(image_ptrs[0])"
   ]
  },
  {
   "cell_type": "code",
   "execution_count": 49,
   "metadata": {
    "collapsed": false
   },
   "outputs": [
    {
     "data": {
      "text/plain": [
       "15"
      ]
     },
     "execution_count": 49,
     "metadata": {},
     "output_type": "execute_result"
    }
   ],
   "source": [
    "p_cnts"
   ]
  },
  {
   "cell_type": "code",
   "execution_count": 57,
   "metadata": {
    "collapsed": true
   },
   "outputs": [],
   "source": [
    "IMAGE_PATH = os.path.join(os.path.dirname(os.path.dirname(os.path.abspath('__file__'))), 'images','%s')"
   ]
  },
  {
   "cell_type": "code",
   "execution_count": 58,
   "metadata": {
    "collapsed": false
   },
   "outputs": [
    {
     "data": {
      "text/plain": [
       "'/Users/Home/Galvanize/images/%s'"
      ]
     },
     "execution_count": 58,
     "metadata": {},
     "output_type": "execute_result"
    }
   ],
   "source": [
    "IMAGE_PATH"
   ]
  },
  {
   "cell_type": "code",
   "execution_count": 61,
   "metadata": {
    "collapsed": false
   },
   "outputs": [
    {
     "data": {
      "text/plain": [
       "'/Users/Home/Galvanize/Capstone'"
      ]
     },
     "execution_count": 61,
     "metadata": {},
     "output_type": "execute_result"
    }
   ],
   "source": [
    "os.path.dirname(os.path.abspath('__file__'))"
   ]
  },
  {
   "cell_type": "code",
   "execution_count": null,
   "metadata": {
    "collapsed": true
   },
   "outputs": [],
   "source": []
  }
 ],
 "metadata": {
  "anaconda-cloud": {},
  "kernelspec": {
   "display_name": "Python [Root]",
   "language": "python",
   "name": "Python [Root]"
  },
  "language_info": {
   "codemirror_mode": {
    "name": "ipython",
    "version": 2
   },
   "file_extension": ".py",
   "mimetype": "text/x-python",
   "name": "python",
   "nbconvert_exporter": "python",
   "pygments_lexer": "ipython2",
   "version": "2.7.12"
  }
 },
 "nbformat": 4,
 "nbformat_minor": 0
}
